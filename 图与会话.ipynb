{
 "cells": [
  {
   "cell_type": "code",
   "execution_count": 2,
   "metadata": {},
   "outputs": [
    {
     "name": "stdout",
     "output_type": "stream",
     "text": [
      "7\n",
      "7\n"
     ]
    }
   ],
   "source": [
    "#图与会话\n",
    "#add\n",
    "import tensorflow as tf\n",
    "a = tf.add(1,6)\n",
    "sess = tf.Session()\n",
    "sess1 = tf.Session()\n",
    "res = sess.run(a)  \n",
    "res1 = sess1.run(a)\n",
    "print(res)\n",
    "print(res1)\n",
    "sess.close()\n",
    "sess1.close()"
   ]
  },
  {
   "cell_type": "code",
   "execution_count": 3,
   "metadata": {},
   "outputs": [
    {
     "name": "stdout",
     "output_type": "stream",
     "text": [
      "15.0\n",
      "-35.0\n",
      "-1715.0\n",
      "2.0\n",
      "0.0\n",
      "0.0\n",
      "25.0\n",
      "7.0\n"
     ]
    }
   ],
   "source": [
    "#API\n",
    "import tensorflow as tf\n",
    "a, b, c, d, e = tf.constant(5.0), tf.constant(10.0), tf.constant(49.0),tf.constant(50.0),tf.constant(1.0)\n",
    "add = tf.add(a,b)\n",
    "sub = tf.subtract(add, d)\n",
    "mul = tf.multiply(sub, c)\n",
    "div = tf.divide(b,a)\n",
    "mod = tf.mod(b,e)\n",
    "pw = tf.pow(mod,b)\n",
    "sqe = tf.square(a)\n",
    "sqt = tf.sqrt(c)\n",
    "for i in (add,sub,mul,div,mod,pw,sqe,sqt):\n",
    "    with tf.Session() as sess:\n",
    "        print(sess.run(i))\n"
   ]
  },
  {
   "cell_type": "code",
   "execution_count": null,
   "metadata": {
    "collapsed": true
   },
   "outputs": [],
   "source": []
  }
 ],
 "metadata": {
  "kernelspec": {
   "display_name": "Python 3",
   "language": "python",
   "name": "python3"
  },
  "language_info": {
   "codemirror_mode": {
    "name": "ipython",
    "version": 3
   },
   "file_extension": ".py",
   "mimetype": "text/x-python",
   "name": "python",
   "nbconvert_exporter": "python",
   "pygments_lexer": "ipython3",
   "version": "3.6.3"
  }
 },
 "nbformat": 4,
 "nbformat_minor": 2
}
