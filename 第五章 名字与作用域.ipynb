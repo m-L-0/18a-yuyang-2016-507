{
 "cells": [
  {
   "cell_type": "code",
   "execution_count": 1,
   "metadata": {},
   "outputs": [
    {
     "ename": "SyntaxError",
     "evalue": "invalid character in identifier (<ipython-input-1-fc7d283cf73b>, line 1)",
     "output_type": "error",
     "traceback": [
      "\u001b[1;36m  File \u001b[1;32m\"<ipython-input-1-fc7d283cf73b>\"\u001b[1;36m, line \u001b[1;32m1\u001b[0m\n\u001b[1;33m    作用:给不同操作域划分范围。\u001b[0m\n\u001b[1;37m                 ^\u001b[0m\n\u001b[1;31mSyntaxError\u001b[0m\u001b[1;31m:\u001b[0m invalid character in identifier\n"
     ]
    }
   ],
   "source": [
    "作用:给不同操作域划分范围。\n",
    "同：在其代码块内显式创建的变量都会带上scope前缀\n",
    "异：对 tf.get_variable() 函数的一个会自动添加前缀，一个不会添加前缀。"
   ]
  },
  {
   "cell_type": "code",
   "execution_count": 2,
   "metadata": {},
   "outputs": [
    {
     "name": "stdout",
     "output_type": "stream",
     "text": [
      "0.419015\n"
     ]
    }
   ],
   "source": [
    "import tensorflow as tf\n",
    "with tf.variable_scope('scope', reuse=None) as scope:\n",
    "    tf.get_variable('x', dtype=tf.float32, shape=[])\n",
    "    scope.reuse_variables()\n",
    "    x = tf.get_variable('x')\n",
    "    y = tf.nn.sigmoid(x)\n",
    "with tf.Session() as sess:\n",
    "    sess.run(tf.global_variables_initializer())\n",
    "    print(sess.run(y))"
   ]
  },
  {
   "cell_type": "code",
   "execution_count": 1,
   "metadata": {
    "collapsed": true
   },
   "outputs": [],
   "source": [
    "def LogisticRegression(x_train,y_train,learning_rates=0.001,epochs=1000):\n",
    "    # 设置训练变量\n",
    "    x = tf.placeholder(tf.float32)\n",
    "    y = tf.placeholder(tf.float32)\n",
    "    \n",
    "    # 设置参数\n",
    "    w = tf.Variable(np.random.randn(),dtype=tf.float32)\n",
    "    b = tf.Variable(np.random.randn(),dtype=tf.float32)\n",
    "    \n",
    "    # 设置损失函数\n",
    "    db = tf.matmul(x, tf.reshape(x, [-1, 1])) + b\n",
    "    hyp = tf.sigmoid(db)\n",
    "    \n",
    "    smaple_num = train_x.shape[0]\n",
    "    cost0 = y * tf.log(hyp)\n",
    "    cost1 = (1 - y) * tf.log(1 - hyp)\n",
    "    cost = (cost0 + cost1) / - sample_num\n",
    "    loss = tf.reduce_sum(cost)\n",
    "    \n",
    "    # 梯度下降法\n",
    "    optimizer = tf.train.GradientDescentOptimizer(learning_rate=learning_rates)\n",
    "    train = optimizer.minimize(loss)\n",
    "    \n",
    "    # 对参数进行迭代\n",
    "    for index in range(epochs):\n",
    "        sess.run(optimizer,{x:train_x,y:train_y}) \n",
    "    b = sess.run(b)\n",
    "    \n",
    "    #输出参数\n",
    "    return w,b"
   ]
  },
  {
   "cell_type": "code",
   "execution_count": null,
   "metadata": {
    "collapsed": true
   },
   "outputs": [],
   "source": []
  }
 ],
 "metadata": {
  "kernelspec": {
   "display_name": "Python 3",
   "language": "python",
   "name": "python3"
  },
  "language_info": {
   "codemirror_mode": {
    "name": "ipython",
    "version": 3
   },
   "file_extension": ".py",
   "mimetype": "text/x-python",
   "name": "python",
   "nbconvert_exporter": "python",
   "pygments_lexer": "ipython3",
   "version": "3.6.3"
  }
 },
 "nbformat": 4,
 "nbformat_minor": 2
}
