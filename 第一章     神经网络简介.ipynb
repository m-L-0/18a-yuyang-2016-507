{
 "cells": [
  {
   "cell_type": "code",
   "execution_count": null,
   "metadata": {
    "collapsed": true
   },
   "outputs": [],
   "source": [
    "1.判断\n",
    "    [x] 互连神经元的连接强度，即突触权值，用于存储获取的知识。\n",
    "    [ ] 阶跃函数输出 “0” 时表示神经元兴奋。\n",
    "    [x] 循环神经网络是一种递归神经网络。\n",
    "    [x] 强化学习是无教师学习。\n",
    "    [ ] sgn函数是一种S型函数（Sigmoid函数）\n",
    "    [ ] 训练好的神经网络去除一个神经元，整个神经网络就无法工作。\n",
    "    [ ] 神经元的激活函数不能是线性函数。\n",
    "    [x] 使用神经网络进行模式分类可以得到分类概率。\n",
    "    [ ] M-P模型是一种单层前馈神经网络模型。\n",
    "    [ ] 神经网络擅长处理计算机视觉任务，所以一切计算机视觉问题使用神经网络解决都是最好的。\n",
    "2.选择\n",
    "    神经网络的基本要素包括：突触、加法器、激活函数\n",
    "    神经网络的性质与能力包括：容错性、自适应性、确定性\n",
    "    监督学习也被称为有教师学习，监督学习是利用带有标签的数据训练模型尽量输出与标记一致的结果\n",
    "    RBF网络、RNN、SOM网络都属于神经网络模型\n",
    "3.编写程序\n",
    "    Numpy编写Sgn、Logistic激活函数\n",
    "    import numpy as np\n",
    "    def sgn(x):\n",
    "        if x>=0:\n",
    "            return 1\n",
    "        else:\n",
    "            return 0\n",
    "    def logistic(x):\n",
    "        return 1. / (1. + np.exp(-x))"
   ]
  }
 ],
 "metadata": {
  "kernelspec": {
   "display_name": "Python 3",
   "language": "python",
   "name": "python3"
  },
  "language_info": {
   "codemirror_mode": {
    "name": "ipython",
    "version": 3
   },
   "file_extension": ".py",
   "mimetype": "text/x-python",
   "name": "python",
   "nbconvert_exporter": "python",
   "pygments_lexer": "ipython3",
   "version": "3.6.3"
  }
 },
 "nbformat": 4,
 "nbformat_minor": 2
}
